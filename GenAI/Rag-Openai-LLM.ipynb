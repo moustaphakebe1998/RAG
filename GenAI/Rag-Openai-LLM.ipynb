{
  "cells": [
    {
      "cell_type": "code",
      "execution_count": null,
      "metadata": {
        "id": "hEIEBngE3ZdE"
      },
      "outputs": [],
      "source": [
        "!pip install langchain"
      ]
    },
    {
      "cell_type": "code",
      "execution_count": 6,
      "metadata": {
        "colab": {
          "base_uri": "https://localhost:8080/"
        },
        "id": "3H9vSUco3hvc",
        "outputId": "465b5878-cbc0-4e1a-ecae-ffa8d886812f"
      },
      "outputs": [
        {
          "name": "stdout",
          "output_type": "stream",
          "text": [
            "Name: langchain\n",
            "Version: 0.1.6\n",
            "Summary: Building applications with LLMs through composability\n",
            "Home-page: https://github.com/langchain-ai/langchain\n",
            "Author: \n",
            "Author-email: \n",
            "License: MIT\n",
            "Location: /usr/local/lib/python3.10/dist-packages\n",
            "Requires: aiohttp, async-timeout, dataclasses-json, jsonpatch, langchain-community, langchain-core, langsmith, numpy, pydantic, PyYAML, requests, SQLAlchemy, tenacity\n",
            "Required-by: \n"
          ]
        }
      ],
      "source": [
        "!pip show langchain"
      ]
    },
    {
      "cell_type": "code",
      "execution_count": null,
      "metadata": {
        "id": "Q7u6si0c4hew"
      },
      "outputs": [],
      "source": [
        "!pip install openai"
      ]
    },
    {
      "cell_type": "code",
      "execution_count": 9,
      "metadata": {
        "colab": {
          "base_uri": "https://localhost:8080/"
        },
        "id": "pVOMcbr94oxH",
        "outputId": "b0d1fe58-7e76-4f5b-b08a-909a46c952ec"
      },
      "outputs": [
        {
          "name": "stdout",
          "output_type": "stream",
          "text": [
            "Name: openai\n",
            "Version: 1.12.0\n",
            "Summary: The official Python library for the openai API\n",
            "Home-page: \n",
            "Author: \n",
            "Author-email: OpenAI <support@openai.com>\n",
            "License: \n",
            "Location: /usr/local/lib/python3.10/dist-packages\n",
            "Requires: anyio, distro, httpx, pydantic, sniffio, tqdm, typing-extensions\n",
            "Required-by: llmx\n"
          ]
        }
      ],
      "source": [
        "!pip show openai"
      ]
    },
    {
      "cell_type": "code",
      "execution_count": null,
      "metadata": {
        "id": "uAU3UU8c-foX"
      },
      "outputs": [],
      "source": [
        "!pip install chromadb\n",
        "!pip install tiktoken"
      ]
    },
    {
      "cell_type": "code",
      "execution_count": null,
      "metadata": {
        "id": "pKvF3KUuFeD2"
      },
      "outputs": [],
      "source": [
        "!pip install \"unstructured[pdf]\""
      ]
    },
    {
      "cell_type": "code",
      "execution_count": 15,
      "metadata": {
        "id": "YXvensI4FP9s"
      },
      "outputs": [],
      "source": [
        "!pip install unstructured"
      ]
    },
    {
      "cell_type": "code",
      "execution_count": null,
      "metadata": {
        "id": "OqZR3Djx4q3w"
      },
      "outputs": [],
      "source": [
        "from langchain.embeddings import OpenAIEmbeddings\n",
        "import os\n",
        "os.environ[\"OPENAI_API_KEY\"]=\"\"\n",
        "embedding = OpenAIEmbeddings()"
      ]
    },
    {
      "cell_type": "code",
      "execution_count": 13,
      "metadata": {
        "id": "FvjtPVqB-Xaa"
      },
      "outputs": [],
      "source": [
        "!rm -rf ./docs/chroma/simple"
      ]
    },
    {
      "cell_type": "code",
      "execution_count": 14,
      "metadata": {
        "id": "Yc9110uAFCXo"
      },
      "outputs": [],
      "source": [
        "from langchain_community.vectorstores.chroma import Chroma"
      ]
    },
    {
      "cell_type": "markdown",
      "metadata": {
        "id": "EUM-1MWv5tAv"
      },
      "source": [
        "J'importe d'une maniére globale mes documents **pdf** pour faire la jointure de l'ensemble de mes **pdf** se trouvant dans le dossier\n",
        "\n",
        "```\n",
        " Data_PATH = \"/content/sample_data\"\n",
        "```\n",
        "\n"
      ]
    },
    {
      "cell_type": "code",
      "execution_count": 17,
      "metadata": {
        "colab": {
          "base_uri": "https://localhost:8080/"
        },
        "id": "rz6YSWaFUNCa",
        "outputId": "e005377d-c98c-48af-b58c-092ba3a9cae2"
      },
      "outputs": [
        {
          "name": "stderr",
          "output_type": "stream",
          "text": [
            "[nltk_data] Downloading package punkt to /root/nltk_data...\n",
            "[nltk_data]   Unzipping tokenizers/punkt.zip.\n",
            "[nltk_data] Downloading package averaged_perceptron_tagger to\n",
            "[nltk_data]     /root/nltk_data...\n",
            "[nltk_data]   Unzipping taggers/averaged_perceptron_tagger.zip.\n"
          ]
        }
      ],
      "source": [
        "from langchain.document_loaders import DirectoryLoader\n",
        "\n",
        "Data_PATH = \"/content/sample_data\"\n",
        "\n",
        "def load_document():\n",
        "    loader = DirectoryLoader(Data_PATH, glob=\"*.pdf\")\n",
        "    documents = loader.load()\n",
        "    return documents\n",
        "\n",
        "documents=load_document()\n"
      ]
    },
    {
      "cell_type": "code",
      "execution_count": 20,
      "metadata": {
        "id": "Db51pQuBI16l"
      },
      "outputs": [],
      "source": [
        "from langchain.text_splitter import RecursiveCharacterTextSplitter\n",
        "text_splitter=RecursiveCharacterTextSplitter(\n",
        "    chunk_size=4000,\n",
        "    chunk_overlap=2000,\n",
        "    separators=[\"\\n\",\"\\n\\n\",\"(?<=\\.!-/)\",\"\",\" \"]\n",
        "\n",
        ")\n",
        "chunks=text_splitter.split_documents(documents)"
      ]
    },
    {
      "cell_type": "markdown",
      "metadata": {
        "id": "-dJWByqMKvfX"
      },
      "source": [
        "Nombre de chunk"
      ]
    },
    {
      "cell_type": "code",
      "execution_count": 21,
      "metadata": {
        "colab": {
          "base_uri": "https://localhost:8080/"
        },
        "id": "HzdwHx9MKrma",
        "outputId": "05bd441c-d1db-4399-f0fb-3c839c7fac9a"
      },
      "outputs": [
        {
          "data": {
            "text/plain": [
              "5948"
            ]
          },
          "execution_count": 21,
          "metadata": {},
          "output_type": "execute_result"
        }
      ],
      "source": [
        "len(chunks)"
      ]
    },
    {
      "cell_type": "code",
      "execution_count": 23,
      "metadata": {
        "colab": {
          "base_uri": "https://localhost:8080/",
          "height": 149
        },
        "id": "2fQUXrf0ZaSZ",
        "outputId": "472ca5e5-5926-4e73-8aca-45c6ea5a1cef"
      },
      "outputs": [
        {
          "data": {
            "application/vnd.google.colaboratory.intrinsic+json": {
              "type": "string"
            },
            "text/plain": [
              "'2023 DSP 70 - Refonte du dispositif \"Paris Méd\\'\" : vers un élargissement et un renforcement de l’aide à l’installation et au maintien des professionnel.le.s de santé libérales.aux. ........................................................................... 51\\n\\n2023 DSP 80 - Subvention (58.728 euros) et convention avec la \"SELAS IPSO\" pour la création d’un cabinet médical de groupe au 153, avenue d’Italie (13e) dans le cadre du dispositif \"Paris Med’\". .............................. 51\\n\\n2023 DSP 81 - Subvention (12.070 euros) et convention avec la \"SELAS IPSO\" pour l’agrandissement d’un cabinet médical de groupe au 73, rue de Montreuil (11e) dans le cadre du dispositif \"Paris Med’\". .................... 51\\n\\n2023 DSP 83 - Convention de mise à disposition d’équipements de santé dans le cadre de l’appel à projets pour une offre de soins de premier recours en soirée, week-ends et jours fériés (Paris centre, 15e). ..................... 51\\n\\nVœu déposé par le groupe Communiste et Citoyen relatif à la création de centres municipaux de santé. .......... 51 Vœu déposé par l\\'Exécutif. ............................................. 51 Compte rendu de la 6e Commission. ............................ 71\\n\\n2023 DDCT 24 - Subventions (50.000 euros) à 16 associations au titre du genre dans l’espace public. ........... 71\\n\\n2023 DJS 75 - Subventions (216.500 euros), conventions et avenants avec 59 associations de jeunesse (5e, 10e, 11e, 12e, 13e, 14e, 17e, 18e, 19e, 20e) au titre de l’engagement et du pouvoir d’agir des jeunes. ..................................................................................... 74\\n\\n2023 DJS 76 - Subventions (281.000 euros), conventions et avenants avec 73 associations de jeunesse (Paris Centre, 6e, 10e, 11e, 12e, 13e, 14e, 17e, 18e, 19e, 20e) au titre de l’accès des jeunes à la culture, au sport et aux vacances. ...................................................... 74\\n\\n2023 DJS 80 - Centres Paris Anim’ Arras et Censier (5e). - Délégation de service public. - Convention avec l’association \"Actisce\". ............................................................ 77\\n\\n2023 DJS 81 - Centre Paris Anim’ Maison des Ensembles (12e). - Délégation de service public. -\\n\\nConvention avec l’association \"Ligue de l\\'Enseignement Fédération de Paris\". .............................................................. 79\\n\\n2023 DJS 82 - Centres Paris Anim’ Brancion, Espace Cévennes, Sohane Benziane, Frères Voisin et théâtre Paris Plaine (15e). - Délégation de service public. - Convention avec l’association \"M.J.C. Brancion\". ............... 82\\n\\nVœu déposé par les groupes Paris en commun, Communiste et Citoyen et \"Les Ecologistes\" relatif la situation de la M.J.C. \"Les Hauts de Belleville\" rue du Borrégo. ................................................................................... 84\\n\\nVœu déposé par le groupe \"Les Ecologistes\" relatif au soutien de la Ville de Paris à la constitutionnalisation de l’I.V.G. ....................................................................................... 85\\n\\nVoeu déposé par le groupe Communiste et Citoyen relatif au soutien de la Ville de Paris au droit à l’avortement. ............................................................................ 85\\n\\n2023 DAE 135 - Contrat d\\'objectifs et de moyens entre la Ville de Paris et l\\'E.S.P.C.I. ...................................... 87\\n\\n2023 DASCO 2 - Conventions annuelles d\\'objectifs et subventions associées (942.220 euros) pour des projets d\\'animation au titre des temps d\\'activités périscolaires. ..... 89\\n\\n2023 DASCO 71 - Caisse des écoles (20e). - Subvention d’investissement (534.283 euros) au titre de la restauration scolaire. .............................................................. 90\\n\\n2023 DASCO 68 - Subvention d’investissement (83.584 euros) à 8 collèges au titre du budget participatif des Collèges édition 2021/2022. ........................................... 91'"
            ]
          },
          "execution_count": 23,
          "metadata": {},
          "output_type": "execute_result"
        }
      ],
      "source": [
        "chunks[4].page_content"
      ]
    },
    {
      "cell_type": "code",
      "execution_count": null,
      "metadata": {
        "id": "pslbPv0RZ94W"
      },
      "outputs": [],
      "source": []
    },
    {
      "cell_type": "markdown",
      "metadata": {
        "id": "ZzKmKLb0abMo"
      },
      "source": [
        "Créatiaon d'une database avec **chroma**"
      ]
    },
    {
      "cell_type": "code",
      "execution_count": 24,
      "metadata": {
        "id": "oNj88b7W-s2G"
      },
      "outputs": [],
      "source": [
        "import chromadb.config\n",
        "from langchain.vectorstores import Chroma"
      ]
    },
    {
      "cell_type": "markdown",
      "metadata": {
        "id": "lM5mo-Ou-cOw"
      },
      "source": [
        "Je supprime l'environnement **chroma** si présent ."
      ]
    },
    {
      "cell_type": "code",
      "execution_count": 25,
      "metadata": {
        "id": "1-OP87__d4zP"
      },
      "outputs": [],
      "source": [
        "!rm -rf ./docs/chroma/simple"
      ]
    },
    {
      "cell_type": "code",
      "execution_count": 26,
      "metadata": {
        "id": "Q-aDGrs1awxe"
      },
      "outputs": [],
      "source": [
        "CHROMA_PATH='docs/chroma/simple'"
      ]
    },
    {
      "cell_type": "code",
      "execution_count": null,
      "metadata": {
        "id": "TXFMjkYxeCOF"
      },
      "outputs": [],
      "source": [
        "#if os.path.exists(CHROMA_PATH):\n",
        "#  shutil.rmtree(CHROMA_PATH)"
      ]
    },
    {
      "cell_type": "code",
      "execution_count": 27,
      "metadata": {
        "id": "4VLGkdv2c40t"
      },
      "outputs": [],
      "source": [
        "dbase=Chroma.from_documents(\n",
        "    documents=chunks,\n",
        "    embedding=embedding,\n",
        "    persist_directory=CHROMA_PATH\n",
        ")"
      ]
    },
    {
      "cell_type": "markdown",
      "metadata": {
        "id": "URXNsbOQf9qr"
      },
      "source": [
        "Maintenant je crée le pipeline et choisir le llm text"
      ]
    },
    {
      "cell_type": "markdown",
      "metadata": {
        "id": "38FdPF3sgKGn"
      },
      "source": [
        "**LLM et Pipeline**"
      ]
    },
    {
      "cell_type": "code",
      "execution_count": 28,
      "metadata": {
        "id": "6c1O9qC8e6D_"
      },
      "outputs": [],
      "source": [
        "from langchain import llms\n",
        "from langchain.chat_models import ChatOpenAI\n",
        "from langchain.callbacks.streaming_stdout import StreamingStdOutCallbackHandler"
      ]
    },
    {
      "cell_type": "markdown",
      "metadata": {
        "id": "l0XAxztFDglo"
      },
      "source": [
        "J'utilise le **GPT-4** dans cette partie."
      ]
    },
    {
      "cell_type": "code",
      "execution_count": 59,
      "metadata": {
        "id": "CWB4v1tye6xk"
      },
      "outputs": [],
      "source": [
        "llm = llms.OpenAI(streaming=True, callbacks=[StreamingStdOutCallbackHandler()], temperature=0)\n",
        "chat_llm = ChatOpenAI(streaming=True,model=\"gpt-4\",  callbacks=[StreamingStdOutCallbackHandler()], temperature=0,max_tokens=2500)"
      ]
    },
    {
      "cell_type": "code",
      "execution_count": 79,
      "metadata": {
        "id": "QN3BPBLxsnGF"
      },
      "outputs": [],
      "source": [
        "from langchain.prompts import PromptTemplate\n",
        "template = \"\"\"\n",
        "Utilisez les éléments de contexte suivants pour répondre à la question à la fin.\n",
        "Si vous ne connaissez pas la réponse, veuillez simplement indiquer que vous ne savez pas. Vous êtes un agent des services municipaux de Paris, veuillez vous en tenir aux informations officielles.\n",
        "CONTEXTE : {context}\n",
        "-------\n",
        "EXTRAIT DU BULLETIN OFFICIEL DE DÉLIBÉRATIONS DE PARIS :\n",
        "{chat_history}\n",
        "Humain : {question}\n",
        "Assistant :\n",
        "\n",
        "\"\"\""
      ]
    },
    {
      "cell_type": "code",
      "execution_count": 53,
      "metadata": {
        "id": "eluI1M03s4lE"
      },
      "outputs": [],
      "source": [
        "prompts=PromptTemplate(input_variables=[\"context\", \"question\", \"chat_history\"], template=template)"
      ]
    },
    {
      "cell_type": "code",
      "execution_count": null,
      "metadata": {
        "id": "jAa60r6Vt2_v"
      },
      "outputs": [],
      "source": []
    },
    {
      "cell_type": "code",
      "execution_count": 54,
      "metadata": {
        "id": "vcGACVrxtyof"
      },
      "outputs": [],
      "source": [
        "from langchain.retrievers import ContextualCompressionRetriever\n",
        "from langchain.retrievers.document_compressors import LLMChainExtractor\n",
        "# Prompt template\n",
        "from langchain.prompts import PromptTemplate\n",
        "# Conversational chain\n",
        "from langchain.memory import ConversationBufferMemory\n",
        "from langchain.chains import ConversationalRetrievalChain\n",
        "# Streaming\n",
        "from langchain.callbacks.streaming_stdout_final_only import (\n",
        "    FinalStreamingStdOutCallbackHandler,\n",
        ")\n",
        "from langchain.retrievers.self_query.base import SelfQueryRetriever"
      ]
    },
    {
      "cell_type": "code",
      "execution_count": 80,
      "metadata": {
        "id": "PzXIQab0uB2m"
      },
      "outputs": [],
      "source": [
        "memory = ConversationBufferMemory(memory_key=\"chat_history\", return_messages=True, output_key=\"answer\")\n",
        "model_simple= ConversationalRetrievalChain.from_llm(chat_llm,\n",
        "                                           dbase.as_retriever(),\n",
        "                                           return_source_documents=True, memory=memory,\n",
        "                                              combine_docs_chain_kwargs={\"prompt\": prompts})"
      ]
    },
    {
      "cell_type": "code",
      "execution_count": 56,
      "metadata": {
        "colab": {
          "base_uri": "https://localhost:8080/"
        },
        "id": "eTn1Yj4yHquU",
        "outputId": "fae0eccb-6789-43de-98ff-14f34bcb4a67"
      },
      "outputs": [
        {
          "name": "stdout",
          "output_type": "stream",
          "text": [
            "En 2023, la Direction de l'Environnement et de l'Ecologie (DEVE) a attribué les subventions suivantes :\n",
            "\n",
            "- DEVE 32 : Subventions de fonctionnement de 12.000 euros à deux associations œuvrant pour le développement de projets d’agriculture de proximité.\n",
            "- DEVE 33 : Subvention d’équipement de 200.000 euros à la Fondation Terre de Liens et une subvention de fonctionnement de 37.000 euros à l'association \"Terre de Liens IDF\".\n",
            "- DEVE 64 : Subvention de 25.000 euros à l’association \"Un Plus Bio\" pour l'accompagnement de la restauration collective parisienne.\n",
            "- DEVE 66 : Subventions aux gestionnaires de la restauration collective parisienne dans le cadre de l’appel à manifestation d’intérêt de lutte contre le gaspillage alimentaire pour un montant total de 137.691.112 euros.\n",
            "- DEVE 51 : Subvention de 100.000 euros à la Fondation de l’Armée du Salut pour son projet d’approvisionnement en alimentation durable et locale à destination des associations d’aide alimentaire Paris.\n",
            "- DEVE 55 : Convention de partenariat et de participation financière avec le Conseil d’architecture, d’urbanisme et de l’environnement de Paris pour renforcer la stratégie de végétalisation dans les quartiers.\n",
            "- DEVE 74 : Autorisation de percevoir une subvention et de signer la convention d’aide financière \"Fonds Vert\" de l’Etat avec l’Agence de l’eau Seine-Normandie pour la Petite Ceinture (20e).\n",
            "- DEVE 75 : Convention et financement de l’Union européenne pour la participation à une recherche sur les plans de verdissement urbain et l’intégration de la biodiversité dans la ville."
          ]
        },
        {
          "data": {
            "text/plain": [
              "{'question': 'Quelles sont les subventions de la DEVE en 2023 ?',\n",
              " 'chat_history': [HumanMessage(content='Quelles sont les subventions de la DEVE en 2023 ?'),\n",
              "  AIMessage(content='En 2023, la Direction de l\\'Environnement et de l\\'Ecologie (DEVE) a attribué les subventions suivantes :\\n\\n- DEVE 32 : Subventions de fonctionnement de 12.000 euros à deux associations œuvrant pour le développement de projets d’agriculture de proximité.\\n- DEVE 33 : Subvention d’équipement de 200.000 euros à la Fondation Terre de Liens et une subvention de fonctionnement de 37.000 euros à l\\'association \"Terre de Liens IDF\".\\n- DEVE 64 : Subvention de 25.000 euros à l’association \"Un Plus Bio\" pour l\\'accompagnement de la restauration collective parisienne.\\n- DEVE 66 : Subventions aux gestionnaires de la restauration collective parisienne dans le cadre de l’appel à manifestation d’intérêt de lutte contre le gaspillage alimentaire pour un montant total de 137.691.112 euros.\\n- DEVE 51 : Subvention de 100.000 euros à la Fondation de l’Armée du Salut pour son projet d’approvisionnement en alimentation durable et locale à destination des associations d’aide alimentaire Paris.\\n- DEVE 55 : Convention de partenariat et de participation financière avec le Conseil d’architecture, d’urbanisme et de l’environnement de Paris pour renforcer la stratégie de végétalisation dans les quartiers.\\n- DEVE 74 : Autorisation de percevoir une subvention et de signer la convention d’aide financière \"Fonds Vert\" de l’Etat avec l’Agence de l’eau Seine-Normandie pour la Petite Ceinture (20e).\\n- DEVE 75 : Convention et financement de l’Union européenne pour la participation à une recherche sur les plans de verdissement urbain et l’intégration de la biodiversité dans la ville.')],\n",
              " 'answer': 'En 2023, la Direction de l\\'Environnement et de l\\'Ecologie (DEVE) a attribué les subventions suivantes :\\n\\n- DEVE 32 : Subventions de fonctionnement de 12.000 euros à deux associations œuvrant pour le développement de projets d’agriculture de proximité.\\n- DEVE 33 : Subvention d’équipement de 200.000 euros à la Fondation Terre de Liens et une subvention de fonctionnement de 37.000 euros à l\\'association \"Terre de Liens IDF\".\\n- DEVE 64 : Subvention de 25.000 euros à l’association \"Un Plus Bio\" pour l\\'accompagnement de la restauration collective parisienne.\\n- DEVE 66 : Subventions aux gestionnaires de la restauration collective parisienne dans le cadre de l’appel à manifestation d’intérêt de lutte contre le gaspillage alimentaire pour un montant total de 137.691.112 euros.\\n- DEVE 51 : Subvention de 100.000 euros à la Fondation de l’Armée du Salut pour son projet d’approvisionnement en alimentation durable et locale à destination des associations d’aide alimentaire Paris.\\n- DEVE 55 : Convention de partenariat et de participation financière avec le Conseil d’architecture, d’urbanisme et de l’environnement de Paris pour renforcer la stratégie de végétalisation dans les quartiers.\\n- DEVE 74 : Autorisation de percevoir une subvention et de signer la convention d’aide financière \"Fonds Vert\" de l’Etat avec l’Agence de l’eau Seine-Normandie pour la Petite Ceinture (20e).\\n- DEVE 75 : Convention et financement de l’Union européenne pour la participation à une recherche sur les plans de verdissement urbain et l’intégration de la biodiversité dans la ville.',\n",
              " 'source_documents': [Document(page_content='2023 DEVE 32 - Subventions de fonctionnement (12.000 euros) à deux associations œuvrant pour le développement de projets d’agriculture de proximité. ...... 105\\n\\n2023 DEVE 33 - Subvention d’équipement (200.000 euros) à la Fondation Terre de Liens et signature d’une de C.P.O. fonctionnement (37.000 euros) à l\\'association \"Terre de Liens IDF\". ............................................................................. 107\\n\\navec\\n\\nattribution\\n\\nd’une\\n\\nsubvention\\n\\n2023 DEVE 64 - Subvention (25.000 euros) à l’association \"Un Plus Bio\" pour l\\'accompagnement de la restauration collective parisienne au travers d\\'une convention. ............................................................................ 108\\n\\n2023 DEVE 66 - Subventions aux gestionnaires de la restauration collective parisienne dans le cadre de l’appel à manifestation d’intérêt de lutte contre le gaspillage alimentaire (137.691.112 euros). ........................................ 109\\n\\nVœu déposé par le groupe Changer Paris relatif à la ferme urbaine \"Plantation Paris\" sur le toit de la gare de fret de Chapelle International. ............................................. 112 Informations sur le déroulement de la séance. ........... 113 Compte rendu de la 1ère Commission. ....................... 113\\n\\n2023 DAE 296 - A.A.P. Soutien aux commerces culturels parisiens (accessibilité, diversité et transition énergétique) : subventions (400.000 euros) et conventions avec 31 commerçants.......................................................... 114\\n\\nVœu déposé par le groupe Changer Paris relatif au suivi de la charte de qualité des commerces de l’avenue de Clichy. ............................................................................... 117\\n\\nVœu déposé par le groupe Changer Paris relatif à un bilan des terrasses parisiennes à la veille des Jeux olympiques. ........................................................................... 117\\n\\n\"Indépendants et Progressistes\" relatif à l’application du règlement des terrasses et étalages parisiens aux terrasses estivales. ....... 117 Vœu déposé par l\\'Exécutif. ........................................... 117\\n\\nVœu déposé par\\n\\nle groupe\\n\\n2023 DAE 146 - Subventions (360.650 euros) et conventions avec sept organismes de formation et avec l’OPCO EP dans le cadre des A.A.P. et A.M.I. \"Paris Emplois à Domicile 2023\". ................................................... 122\\n\\n2023 DAE 273 - Subventions d’investissement (90.000 euros) et conventions avec trois entreprises à but d’emploi parisiennes. ........................................................... 123 Suspension et reprise de la séance. ........................... 124\\n\\n2023 DAE 191 - Subvention de fonctionnement l\\'association \"A chacun ses\\n\\n(15.000 euros) à vacances\". ............................................................................ 125\\n\\n2023 DAE 287 - Subvention (12.600 euros) à la interprètes et\\n\\nFédération nationale des guides conférenciers. ....................................................................... 126\\n\\n2023 DDCT 93 - Soutenir l\\'investissement pour la vie nocturne. ............................................................................... 127\\n\\n2023 DDCT 109 - Soutenir le dispositif \"Demandez Angela\". ................................................................................. 129\\n\\n2023 DAE 105 - Subvention (1.000.000 euros) et convention avec \"Immobilière 3F\" pour un projet immobilier de lieu de collecte, transformation, production et/ou logistique circulaires, pour l’économie sociale et solidaire (19e). ...................................................................... 130\\n\\n2023 DAE 109 - Subventions (200.000 euros) et conventions avec trois structures d’insertion par l’activité économique (S.I.A.E.) et quatre réseaux de l’I.A.E. ......... 133', metadata={'source': '/content/sample_data/BOVP débats Nov 2023.pdf'}),\n",
              "  Document(page_content='2023 DEVE 51 - Subvention (100.000 euros) à la Fondation de l’Armée du Salut pour son projet d’approvisionnement en alimentation durable et locale à destination des associations d’aide alimentaire Paris. ..... 243 Compte rendu de la 1ère Commission. ....................... 245\\n\\n2023 DAE 141 - Modification des statuts de la SEMAEST. ............................................................................ 245\\n\\n2023 DFA 43 - Augmentation de capital de la SEMAEST et de la Foncière \"Paris Commerces\" dans le cadre du développement de l’opérateur \"Commerce\". .... 245 2023 DAE 140 - Soutien aux E.I.T.I. parisiennes. ...... 249\\n\\nVœu déposé par le groupe Communiste et Citoyen travailleurs.euses des\\n\\nrelatif à plateformes numériques de travail. .................................... 249\\n\\nla protection des\\n\\nVœu déposé par l\\'Exécutif municipal en réaction aux événements survenus à la suite du décès du jeune Nahel M. .................................................................... 252 Suspension et reprise de la séance. ............................ 253\\n\\n2023 DAJ 19 - Contrat de cession de droits de propriété intellectuelle et autorisation d\\'exploitation commerciale d\\'un potelet-vélo créé par un agent de la Ville de Paris. ........................................................................ 253\\n\\n2023 DDCT 74 - Approbation de la convention de subvention au titre du dispositif \"Conseiller Numérique la Caisse des dépôts et France Service\" avec consignations. ....................................................................... 254\\n\\n2023 DSIN 1 - Intégration des services informatiques de la DSOL-C.A.S.-V.P. au sein de la DSIN et convention de mise à disposition de compétences et de services. .... 256\\n\\n2023 DRH 36 - Présentation du Rapport social unique (R.S.U.) 2022 : communication sur les grands axes de la politique R.H. de la Ville de Paris. ....................................... 258\\n\\nVœu déposé par le groupe Changer Paris relatif au logement des agents de la Ville de Paris. .......................... 258 2023 SG 51 - Approbation du Code de la rue. ........... 264\\n\\nVœu déposé par le groupe Changer Paris relatif à l’apprentissage des règles du Code de la rue aux enfants. ................................................................................. 264\\n\\nVœu déposé par le groupe MoDem, Démocrates et Ecologistes relatif à la mise à disposition par la Ville des places de parking des administrations et logements sociaux. ................................................................................. 264\\n\\nVœu déposé par le groupe MoDem, Démocrates et Ecologistes relatif à la réalisation de contrôles renforcés après travaux sur la voirie. .................................................. 265\\n\\nVœu déposé par le groupe MoDem, Démocrates et Ecologistes relatif à la sanctuarisation des trottoirs pour les piétons. .................................................................................. 265\\n\\nVœu déposé par le groupe MoDem, Démocrates et Ecologistes relatif aux cheminements piétons lors de travaux de voirie. .................................................................. 265\\n\\nVœu déposé par le groupe Communiste et Citoyen relatif aux aides à l’achat de vélo. ...................................... 265 Voeu déposé par l\\'Exécutif. .......................................... 265\\n\\n2023 DVD 43 - Stationnement de surface. - Mesures de simplification. ................................................................... 265\\n\\nVœu déposé par le groupe MoDem, Démocrates stationnement des\\n\\net Ecologistes professionnels. ................................................................... 265\\n\\nrelatif au\\n\\n2023 DVD 55 - Subventions (33.600 euros) et conventions avec 3 associations pour leurs actions contribuant à l‘amélioration de la sécurité routière sur le territoire parisien. .................................................................. 265\\n\\n2023 DVD 70\\n\\nAssociation\\n\\n\"Certibruit\".', metadata={'source': '/content/sample_data/BOVP - Débats Juillet 2023.pdf'}),\n",
              "  Document(page_content='2023 DEVE 55 - Convention de partenariat et de participation financière avec le Conseil d’architecture, d’urbanisme et de l’environnement de Paris pour renforcer la stratégie de végétalisation dans les quartiers. ................. 92\\n\\n2023 DEVE 74 - Petite Ceinture (20e). - Autorisation de percevoir une subvention et de signer la convention d’aide financière \"Fonds Vert\" de l’Etat avec l’Agence de l’eau Seine-Normandie. .......................................................... 94\\n\\n2023 DEVE 75 - Convention et financement de l’Union européenne pour la participation à une recherche. - Action sur les plans de verdissement urbain et l’intégration de la biodiversité dans la ville. .......................... 95\\n\\nVœu déposé par le groupe \"Les Ecologistes\" relatif à l’expérimentation du nourrissage contraceptif encadré des pigeons. ................................................................................... 96\\n\\nVœu déposé par le groupe Changer Paris relatif à une meilleure information des Parisiens en vue des abattages d’arbres. ................................................................................... 97\\n\\n2023 DAE 15 - Subventions (542.400 euros), conventions et avenant à convention avec 13 structures lauréates de l’appel à projets \"Paris Fertile\". ....................... 99\\n\\n2023 DAE 159 - Conventions, subventions (590.000 euros) et avenants à 16 organismes portant des projets économiques en faveur d’une alimentation durable et solidaire. ................................................................................ 101\\n\\n2023 DAE 199 - Conventions et subventions (48.000 euros) en soutien à 4 structures de l’alimentation durable en difficulté. ........................................................................... 104\\n\\nVœu déposé par M. Laurent SOREL relatif à une négociation avec les bailleurs pour baisser les charges locatives pour les structures E.S.S. .................................... 104\\n\\n2023 DEVE 32 - Subventions de fonctionnement (12.000 euros) à deux associations œuvrant pour le développement de projets d’agriculture de proximité. ...... 105\\n\\n2023 DEVE 33 - Subvention d’équipement (200.000 euros) à la Fondation Terre de Liens et signature d’une de C.P.O. fonctionnement (37.000 euros) à l\\'association \"Terre de Liens IDF\". ............................................................................. 107\\n\\navec\\n\\nattribution\\n\\nd’une\\n\\nsubvention\\n\\n2023 DEVE 64 - Subvention (25.000 euros) à l’association \"Un Plus Bio\" pour l\\'accompagnement de la restauration collective parisienne au travers d\\'une convention. ............................................................................ 108\\n\\n2023 DEVE 66 - Subventions aux gestionnaires de la restauration collective parisienne dans le cadre de l’appel à manifestation d’intérêt de lutte contre le gaspillage alimentaire (137.691.112 euros). ........................................ 109\\n\\nVœu déposé par le groupe Changer Paris relatif à la ferme urbaine \"Plantation Paris\" sur le toit de la gare de fret de Chapelle International. ............................................. 112 Informations sur le déroulement de la séance. ........... 113 Compte rendu de la 1ère Commission. ....................... 113\\n\\n2023 DAE 296 - A.A.P. Soutien aux commerces culturels parisiens (accessibilité, diversité et transition énergétique) : subventions (400.000 euros) et conventions avec 31 commerçants.......................................................... 114\\n\\nVœu déposé par le groupe Changer Paris relatif au suivi de la charte de qualité des commerces de l’avenue de Clichy. ............................................................................... 117\\n\\nVœu déposé par le groupe Changer Paris relatif à un bilan des terrasses parisiennes à la veille des Jeux olympiques. ........................................................................... 117', metadata={'source': '/content/sample_data/BOVP débats Nov 2023.pdf'}),\n",
              "  Document(page_content='Urbaine Professionnelle et à la Fondation AgroParistech sous égide de la Fondation Paristech.\\n\\n2023 DEVE 37 Subventions (64.000 euros) à 7 associations pour leurs actions d’accompagnement et de\\n\\nsensibilisation à une alimentation durable.\\n\\n2023 DEVE 45 Subventions (66.180 euros) à 7 associations pour leurs actions d’accompagnement des\\n\\npersonnes en situation de précarités alimentaires vers une alimentation durable.\\n\\nMme Audrey PULVAR, rapporteure.\\n\\n2023 DICOM 1 Conventions de partenariat en soutien au Village du rugby.\\n\\n2023 DJS 27 Subvention (55.600 euros) et avenant à la convention pluriannuelle d’objectifs avec le Comité\\n\\nDépartemental Olympique et Sportif de Paris.\\n\\n2023 DJS 29 Subvention (160.000 euros) et avenant à la convention pluriannuelle d’objectifs avec le Comité\\n\\nDépartemental Olympique et Sportif de Paris (dispositif Réduc’Sport).\\n\\n2023 DJS 54 Subvention de fonctionnement (20.000 euros) et convention pluriannuelle d\\'objectifs pour le\\n\\ncomité départemental de Paris de Tennis au titre des années 2023,2024 et 2025.\\n\\n2023 DJS 85 Subvention (96.000 euros) et conclusion de 32 conventions tripartites avec 9 clubs sportifs au titre\\n\\nde l’accompagnement des sportifs parisiens de haut niveau en 2023.\\n\\n2023 DJS 90 Subvention (5.000 euros) au Lagardère Paris Racing pour l’organisation du Trophée Clarins\\n\\n2023.\\n\\n2023 DJS 91 Subvention (60.000 euros) et convention annuelle d’objectifs pour la Fédération Française de\\n\\nTriathlon au titre de l’organisation du Triathlon de paris 2023.\\n\\n2023 DJS 97 Contrat de cession non exclusive de droits d’auteur (\"œuvre éphémère\") pour l’œuvre de Lucas STROEBELE réalisée sur le sol des courts d’urban tennis du CS Charles Moureu, 17, avenue Charles Moureu (13e).\\n\\n2023 DTEC 25 Convention de partenariat avec l\\'ASPP pour le lavage d\\'EcoCups - Test d\\'une course sur route\\n\\nsans PUU.\\n\\nM. Pierre RABADAN, rapporteur.\\n\\n2023 DAC 9 Subvention (100.000 euros) et avenant à convention avec le Théâtre des Bouffes du Nord - SAS\\n\\nCentre International de Créations Théâtrales (10e).\\n\\n2023 DAC 23 Subventions d’équipement (587.500 euros) et conventions avec 9 structures culturelles.\\n\\n2023 DAC 30 Subvention (10.000 euros) à l’association Le Lieu Mains d’Œuvres.\\n\\n2023 DAC 37 Subvention (50.000 euros) et convention avec l\\'association Les Athévains (11e).\\n\\n509\\n\\nS É A N C E D E S 4 , 5 , 6 E T 7 J U I L L E T 2 0 2 3\\n\\n2023 DAC 38 Contribution (150.000 euros) et convention avec l’établissement public de coopération culturelle\\n\\nAteliers Médicis (Clichy-sous-Bois).\\n\\n2023 DAC 40 Subventions (22.100 euros) à 4 associations dans le cadre du soutien aux festivals sur le\\n\\nterritoire parisien au second semestre 2023 et un avenant à convention.\\n\\n2023 DAC 42 Subvention (20.000 euros) et convention avec l’association Compagnie Graines de soleil (18e).\\n\\n2023 DAC 45 Subvention (27.000 euros) à l’association Comité des fêtes et de la solidarité du 13e\\n\\narrondissement pour l’organisation de la deuxième édition du festival artistique du 13e arrondissement (13e).\\n\\n2023 DAC 48 Subvention d’équipement (50.000 euros) et convention avec la Maison des Métallos dans le\\n\\ncadre du budget participatif 2019 (11e).\\n\\n2023 DAC 83 Subvention (5.500 euros) et avenant à convention avec l\\'association Kiosquorama.\\n\\n2023 DAC 84 Subventions (50.000 euros) et avenant à convention avec le Groupement d’Intérêt Public Cafés-\\n\\nCultures.\\n\\n2023 DAC 85 Subventions (2.435.000 euros), convention et avenants avec des structures exploitant des lieux\\n\\nmusicaux.\\n\\n2023 DAC 87 Subventions (40.000 euros) à deux structures organisant des événements musicaux et\\n\\nconvention avec l’association Technopol - Techno Parade.\\n\\n2023 DAC 100 Subvention (4.600.000 euros) et avenants à conventions avec l’association Orchestre de\\n\\nChambre de Paris (19e).\\n\\n2023 DAC 102 Subventions (52.000 euros) à l\\'association Pro quartet (10e) et Jeunes Talents (20e) et\\n\\nconvention avec l\\'association Jeunes Talents.', metadata={'source': '/content/sample_data/BOVP - Débats Juillet 2023.pdf'})]}"
            ]
          },
          "execution_count": 56,
          "metadata": {},
          "output_type": "execute_result"
        }
      ],
      "source": [
        "model_simple(\"Quelles sont les subventions de la DEVE en 2023 ?\")"
      ]
    },
    {
      "cell_type": "code",
      "execution_count": 81,
      "metadata": {
        "colab": {
          "base_uri": "https://localhost:8080/"
        },
        "id": "cRzc462KDdTf",
        "outputId": "bc6143c2-bc9b-4839-e4c2-5b11776d096c"
      },
      "outputs": [
        {
          "name": "stdout",
          "output_type": "stream",
          "text": [
            "La DVD est l'acronyme de la Direction de la Voirie et des Déplacements. C'est un service de la Ville de Paris qui est en charge de la gestion et de l'aménagement des espaces publics, de la circulation et des transports."
          ]
        },
        {
          "data": {
            "text/plain": [
              "{'question': \"Qu'est-ce que la DVD ?\",\n",
              " 'chat_history': [HumanMessage(content=\"Qu'est-ce que la DVD ?\"),\n",
              "  AIMessage(content=\"La DVD est l'acronyme de la Direction de la Voirie et des Déplacements. C'est un service de la Ville de Paris qui est en charge de la gestion et de l'aménagement des espaces publics, de la circulation et des transports.\")],\n",
              " 'answer': \"La DVD est l'acronyme de la Direction de la Voirie et des Déplacements. C'est un service de la Ville de Paris qui est en charge de la gestion et de l'aménagement des espaces publics, de la circulation et des transports.\",\n",
              " 'source_documents': [Document(page_content='Je mets aux voix, à main levée, le projet de délibération DVD 53.\\n\\nQui est pour ?\\n\\nQui est contre ?\\n\\nQui s\\'abstient ?\\n\\nLe projet de délibération est adopté. (2023, DVD 53).\\n\\n2023 DVD 65 - Élaboration du Plan local de mobilité de Paris.\\n\\nVœu déposé par le groupe \"Indépendants et Progressistes\" relatif aux espaces de\\n\\nstationnement réservés à la location de trottinettes en libre-service.\\n\\nVœu déposé par le groupe \"Indépendants et Progressistes\" relatif à l’aide financière de\\n\\nla Ville de Paris pour l’achat de véhicules à assistance électrique (VAE).\\n\\nM. Patrick BLOCHE, adjoint, président. - Nous examinons le projet de délibération DVD 65 et le vœu n° 165. Il s\\'agit de l\\'élaboration du Plan local de mobilité de Paris. Nous avons logiquement un nombre d\\'inscrites et d\\'inscrits plus important. Je donne la parole à Delphine BÜRKLI, Mme la Maire du 9e arrondissement, cela vous permettra de présenter le vœu n° 165 de votre groupe.\\n\\nMme Delphine BÜRKLI, maire du 9e arrondissement. - Nous parlons bien du projet de délibération sur le Plan\\n\\nlocal de mobilité ?\\n\\nM. Patrick BLOCHE, adjoint, président. - Je vous le confirme.\\n\\nMme Delphine BÜRKLI, maire du 9e arrondissement. - Merci, Monsieur le Maire.\\n\\nEn effet, la Ville de Paris a décidé de réduire drastiquement, en catimini et à bas bruits, les aides financières à l\\'acquisition de vélos à assistance électrique. Puisque nous parlons mobilité, nous parlons vélo, c\\'est la raison pour laquelle je souhaitais aborder ce sujet.\\n\\nCette diminution est intervenue par le biais d\\'une délibération en octobre 2022 relative au volet mobilité du plan climat-air-énergie. Depuis cette délibération, seuls les résidents parisiens dont le revenu fiscal de référence par part est inférieur ou égal à 6.300 euros sont éligibles aux aides financières à l\\'écomobilité, d\\'un montant de 400 euros. Dans la réalité, les demandeurs d\\'aide à l\\'achat d\\'un V.A.E. sont rarement dans ces tranches de revenus très bas et ne représenteraient que 10 % des demandeurs.\\n\\nPour compenser la suppression de l\\'aide de la Ville, Ile-de-France Mobilités a voté le 20 avril 2023 une aide de 400 euros pour l\\'achat d\\'un vélo à assistance électrique en faveur des Parisiens sans condition de ressources, ainsi qu\\'une aide de 100 euros pour l\\'achat d\\'un vélo mécanique pour les jeunes de 15 à 25 ans.\\n\\n446\\n\\nS É A N C E D E S 5 , 6 , 7 E T 8 J U I N 2 0 2 3\\n\\nA travers ce vœu, je propose que la Ville de Paris mette en place un dispositif de subventionnement complémentaire à celui d\\'Ile-de-France Mobilités qui permettrait à tous les Parisiens de continuer à bénéficier d\\'un subventionnement de 100 euros, notamment les ménages non éligibles à l\\'aide à l\\'achat de la Ville de Paris. C\\'était le cas avant. La Ville de Paris donnait 400 euros, une somme très importante, mais je propose ici 100 euros. C\\'est une manière de compléter l\\'aide d\\'Ile-de-France Mobilités et de porter l\\'aide totale à 500 euros, comme auparavant.\\n\\nJe vous remercie.\\n\\nM. Patrick BLOCHE, adjoint, président. - Merci beaucoup, Madame la Maire du 9e arrondissement, chère\\n\\nDelphine BÜRKLI.\\n\\nJe donne la parole à Jean-Philippe GILLET.\\n\\nM. Jean-Philippe GILLET. - Merci, Monsieur le Maire.\\n\\nChers collègues, nous connaissons toutes et tous ici les tensions provoquées par le sujet des mobilités à Paris entre piétons et cyclistes, cyclistes et automobilistes, automobilistes et piétons. En effet, Paris évolue, notre ville se transforme et, avec elle, les mobilités. Cette évolution, d\\'ailleurs, nous prend parfois de court. Ce fut le cas, nous le savons tous, des trottinettes. Après une régulation insuffisante, la Mairie de Paris a pris ses responsabilités en annonçant leur interdiction à la rentrée prochaine.', metadata={'source': '/content/sample_data/BOVP - Débats Juin 2023.pdf'}),\n",
              "  Document(page_content='La parole est à Nicolas JEANNETÉ.\\n\\nM. Nicolas JEANNETÉ. - Je vais vous la redonner tout de suite parce que je me suis longuement exprimé sur\\n\\nce fameux Code de la rue, avec cette pseudo-assemblée citoyenne. Je n\\'y reviendrai pas. Je m\\'arrête là.\\n\\nMme Anne SOUYRIS, adjointe, présidente. - Monsieur BELLIARD ?\\n\\nM. David BELLIARD, adjoint. - Merci, Madame la Maire\\n\\nJe me suis déjà exprimé longuement sur ces projets de délibération. Je vais dire encore et encore, ce que j\\'ai dit dans les précédents Conseils de Paris. Je profite d\\'avoir la parole pour remercier l\\'ensemble des services de la Ville et de la DVD pour le travail qu\\'ils font sur la maintenance et la gestion au quotidien de l\\'espace public. Nous savons, vous et moi, que c\\'est extrêmement difficile.\\n\\nMme Anne SOUYRIS, adjointe, présidente. - Merci pour ces remerciements à l\\'attention des services.\\n\\nJe mets aux voix, à main levée, le projet de délibération DVD 39.\\n\\nQui est pour ?\\n\\nContre ?\\n\\nAbstentions ?\\n\\nLe projet délibération est adopté. (2023, DVD 39).\\n\\nVœu déposé par le groupe Paris en commun relatif à la privatisation du réseau de bus\\n\\nexploité par la R.A.T.P.\\n\\nMme Anne SOUYRIS, adjointe, présidente. - Nous examinons le vœu référencé n° 120 relatif à la privatisation\\n\\ndu réseau de bus exploité par la R.A.T.P.\\n\\nLa parole est à Florian SITBON, pour le groupe Paris en commun.\\n\\nM. Florian SITBON. - C\\'est un vœu proposé par Remi FÉRAUD et l\\'ensemble de notre groupe Paris en\\n\\ncommun.\\n\\nLa Présidente de la Région Île-de-France et de \"Ile-de-France Mobilités\", Valérie PÉCRESSE, a fait le choix d\\'ouvrir, début 2025, le réseau de bus de la région à la concurrence. Rien n\\'imposait pourtant cette solution qui a été prise, je le rappelle, sans aucune concertation ni consultation des usagers et des usagères, des salariés, ni des élus franciliens.\\n\\nAujourd\\'hui, les conditions de travail et de rémunération des machinistes ne permettent pas de recruter suffisamment de conducteurs pour assurer un service de qualité. Nous le savons, l\\'offre de transport en commun s\\'est fortement dégradée - qui pourrait l\\'ignorer - durant et depuis la crise du Covid. \"I.D.F.M.\" n\\'est plus en mesure de répondre aux besoins des usagers.\\n\\nL\\'offre de transport est, et demeure, en effet, très inférieure à celle proposée avant 2019. Le processus engagé de privatisation, s\\'il va à son terme, aggravera un peu plus encore la situation et est susceptible d\\'obliger des milliers de salariés, de machinistes, de receveurs, mais aussi de multiples autres professions à changer d\\'employeur, sans aucune garantie de maintien de la rémunération, sans même que les personnels ne puissent s\\'opposer à ces changements.\\n\\nLa multiplication des opérateurs ne pourra mener qu\\'à une aggravation de l\\'offre de service. D\\'ici quelques mois, avec les Jeux olympiques et paralympiques, ce sont des dizaines de milliers de visiteurs qui viendront en Ile- de-France et qui auront besoin de transports en commun qui fonctionnent correctement, et donc de transporteurs qui ne sont pas fragilisés par ces perspectives.\\n\\nNous savons que la coordination de l\\'information voyageurs, la billettique et les systèmes de sécurité ne seront pas assurés dans le cas où plusieurs opérateurs se partageraient le réseau. C\\'est la raison pour laquelle les élus du groupe Paris en commun demandent que la Maire de Paris interpelle une fois encore Mme PÉCRESSE pour qu\\'elle suspende, dans les plus brefs délais, la mise en concurrence du réseau de bus, exploité par la R.A.T.P., et qu\\'elle exige de l\\'État qu\\'il finance enfin et à hauteur des besoins les transports d\\'Ile-de-France.\\n\\n432\\n\\nS É A N C E D E S 1 4 , 1 5 , 1 6 E T 1 7 M A R S 2 0 2 3\\n\\nMme Anne SOUYRIS, adjointe, présidente. - Merci.\\n\\nPour vous répondre, la parole est à David BELLIARD.', metadata={'source': '/content/sample_data/BOVP - Débats Mars 2023.pdf'}),\n",
              "  Document(page_content='M. Dan LERT, adjoint, président. - Nous examinons donc le projet de délibération DVD 57 : soutien aux\\n\\nassociations vélo : subventions de fonctionnement et d\\'investissement à 25 associations et conventions associées.\\n\\nLa parole est à Mme Farida KERBOUA, pour cinq minutes.\\n\\nMme Farida KERBOUA. - Monsieur le Maire, chers collègues, ce projet de délibération, qui répond à la\\n\\ndemande de soutien de 25 associations vélo, comprend beaucoup d\\'éléments et est donc source d\\'enseignements.\\n\\nTout d\\'abord, nous avons un nombre grandissant de projets supplémentaires soutenus, 10 de plus en l\\'occurrence, par rapport à 2022. Par conséquent, le budget consacré à ces subventions augmente de 38 % en 2023.\\n\\nL\\'augmentation de ces montants ne nous poserait pas de problème fondamental s\\'il n\\'y avait aucune instrumentalisation ou connotation politique derrière. Il s\\'agit de familiariser les Parisiens à la pratique du vélo, entre promenades et réparations. Originellement, le vélo a été conçu et pensé comme un moyen de déplacement pour le quotidien qui peut se pratiquer dès le plus jeune âge, un mode de déplacement universel, en somme. Par la suite, c’est devenu un loisir et un sport.\\n\\nVous, vous en faites un objet politique et militant à part entière, auquel viennent se greffer d\\'autres revendications, notamment féministes, sociales et écologistes. L\\'association \"Rosa Parks\" estime qu\\'il est nécessaire de déconstruire les représentations sur les questions de genre relatives à la pratique du vélo, \"Paillettes & Cambouis\" œuvre à promouvoir la pratique du vélo et la fête comme outil de conscientisation et d\\'émancipation. D\\'autres associations sont persuadées que des ateliers de réparation de vélos en non-mixité sont nécessaires, ce qui ne plaide pas pour la promotion de l\\'égalité des personnes.\\n\\nNotre groupe encourage toute initiative, toute action qui tend à améliorer la vie des publics fragiles, des personnes en situation de handicap, leur mobilité. Mais cette intellectualisation et cette idéologisation du vélo contribuent à créer un clivage autour de sa pratique, et c\\'est pourquoi nous nous abstiendrons sur ce projet de délibération.\\n\\nJe vous remercie.\\n\\nM. Dan LERT, adjoint, président. - Merci.\\n\\nLa parole est à M. Florian SITBON, pour cinq minutes.\\n\\nM. Florian SITBON. - Oui, Monsieur le Maire, mes chers collègues, écoutez, c\\'est bien dommage que vous vous absteniez, et je ne sais pas où vous voyez de l\\'idéologisation du vélo. Il y a juste des vélos, il y en a de plus en plus et il faut soutenir cette pratique.\\n\\nLe Plan Vélo 2021-2026 prévoit évidemment la construction de dizaines de kilomètres de pistes cyclables, l’installation de milliers de places de stationnement, et là aussi, dans l’objectif de développer la culture vélo et non l\\'idéologisation du vélo. Il s\\'agit avant tout de rendre la pratique cycliste accessible à toutes et à tous, car même si le nombre de vélos qui circulent à Paris augmente de manière importante depuis plusieurs années, des publics en restent exclus. Pourquoi ? Tout simplement parce que beaucoup d’entre nous ont appris à faire du vélo avec leurs parents, qui savaient eux-mêmes circuler à vélo. Mais qu’en est-il de celles et ceux qui ne savent pas pédaler ? Il est impératif que des cours soient proposés à tous les publics, en particulier dans les quartiers \"politique de la ville\", où nombre d’adultes ne savent pas faire du vélo.\\n\\n230\\n\\nS É A N C E D E S 3 , 4 , 5 E T 6 O C T O B R E 2 0 2 3\\n\\nJe ne peux donc que me féliciter que 60 % des associations subventionnées par ce projet de délibération se\\n\\nsituent dans ces quartiers populaires.', metadata={'source': '/content/sample_data/BOVP-Debats-Octobre-2023.pdf'}),\n",
              "  Document(page_content='2023 DVD 20 - Prolongement de la ligne 14 du métro \"Saint-Lazare - Mairie de Saint- Ouen\" et de l’adaptation des stations existantes de la ligne 14 : avenant n° 1 à la convention de financement n° 4 de réalisation.\\n\\nVœu déposé par le groupe Communiste et Citoyen relatif à la présence d’agents de la\\n\\nR.A.T.P. dans les stations et gares du métro.\\n\\nMme Anne SOUYRIS, adjointe, présidente. - Nous examinons le projet de délibération DVD 20 et le vœu référencé n° 119 qui portent sur le prolongement de la ligne 14 du métro Saint-Lazare-Mairie de Saint-Ouen, l\\'adaptation des stations existantes de la ligne 14, l\\'avenant n° 1 à la convention de financement n° 4 de réalisation.\\n\\nLa parole est à Nicolas BONNET-OULALDJ pour le groupe citoyen… Non… Quelqu\\'un d\\'autre souhaite-t-il\\n\\nprendre la parole pour le groupe ? Non ?\\n\\nAyant présenté le projet de délibération, je vous propose de le soumettre au vote directement, sauf si Monsieur\\n\\nBELLIARD…\\n\\nLe vœu n° 119 n\\'étant pas présenté, il est retiré de l\\'ordre du jour.\\n\\nJe mets aux voix, à main levée, le projet de délibération DVD 20.\\n\\nQui est pour ?\\n\\nContre ?\\n\\nAbstentions ?\\n\\nLe projet délibération est adopté. (2023, DVD 20).\\n\\nMerci à tous.\\n\\nCela va aller très vite. Prévenez vos collègues, s\\'ils sont derrière et s\\'ils doivent intervenir prochainement.\\n\\n2023 DVD 31 - Avenant à la convention avec l’association \"Conseil d\\'architecture,\\n\\nd\\'urbanisme et de l\\'environnement de Paris\" (CAUE).\\n\\nMme Anne SOUYRIS, adjointe, présidente. - Nous examinons le projet de délibération DVD 31 relatif à un\\n\\navenant à la convention avec l\\'association \"Conseil d\\'Architecture, d\\'Urbanisme et de l\\'Environnement\" de Paris.\\n\\nLa parole est à M. Nicolas JEANNETÉ, pour le groupe Changer Paris.\\n\\nM. Nicolas JEANNETÉ. - Merci, Madame la Maire.\\n\\nCe projet de délibération concerne la convention entre la Ville de Paris et le C.A.U.E qui accompagne la\\n\\nMunicipalité dans les démarches \"embellir votre quartier\" et la \"Rue des écoles\".\\n\\nC\\'est l\\'occasion, chers collègues, de vous rappeler que nous réclamons, depuis longtemps, une meilleure coordination des chantiers de la Ville de Paris, ce qui passe, notamment, par un bilan des chantiers et une évaluation de leur impact sur la circulation, comme l\\'a rappelé, à l\\'instant, ma collègue du 16e, Véronique BUCAILLE, dans son vœu présenté.\\n\\nNous réclamons, Jacques BAUDRIER et David BELLIARD, un bilan des opérations en lien à votre quartier, en termes à la fois de délais respectés, de coordination d\\'acteurs multiples, d\\'utilisation d\\'outils techniques de suivi, de data, de coordination d\\'interventions et d\\'évaluations d\\'éventuels chantiers intervenus \"a posteriori\".\\n\\nCes demandes, je le rappelle, avaient été effectuées par mon collègue Rudolph GRANIER, en juillet dernier.\\n\\nMalheureusement, vous aviez rejeté ce vœu.\\n\\nEnfin, nous nous étonnons que les tableaux de bord de la DVD - pour le grand public, c\\'est la Direction de la Voirie et des Déplacements - ne soient plus publiés depuis mai 2022, soit bientôt depuis un an. C\\'est donc un nombre très important d\\'indicateurs sur les chantiers, mais aussi la circulation, les transports en commun, les dommages corporels, les vélos, le stationnement ou encore les fourrières qui ne sont plus disponibles ; c\\'est donc très important.\\n\\nMonsieur BELLIARD, quand on contacte votre cabinet, il nous explique que les services sont en train de travailler à une nouvelle version de la mise en ligne, pour suivre en temps réel ces indicateurs. Cette nouvelle version, nous explique-t-on, est disponible d\\'ici début avril, au plus tard. Pouvez-vous nous confirmer que cette nouvelle version sera disponible à la date prévue ?', metadata={'source': '/content/sample_data/BOVP - Débats Mars 2023.pdf'})]}"
            ]
          },
          "execution_count": 81,
          "metadata": {},
          "output_type": "execute_result"
        }
      ],
      "source": [
        "model_simple(\"Qu'est-ce que la DVD ?\")"
      ]
    },
    {
      "cell_type": "code",
      "execution_count": null,
      "metadata": {
        "id": "bUc_5--XL30F"
      },
      "outputs": [],
      "source": []
    }
  ],
  "metadata": {
    "colab": {
      "provenance": []
    },
    "kernelspec": {
      "display_name": ".repliclust_venv",
      "language": "python",
      "name": "python3"
    },
    "language_info": {
      "name": "python",
      "version": "3.13.1"
    }
  },
  "nbformat": 4,
  "nbformat_minor": 0
}
